{
 "cells": [
  {
   "cell_type": "markdown",
   "metadata": {
    "deletable": true,
    "editable": true
   },
   "source": [
    "# Udacity Machine Learning Nanodegree\n",
    "\n",
    "## Capstone Project — Tweet Classifier\n",
    "\n",
    "> *Classify tweets as either __Republican__ or __Democrat__.*\n",
    "\n",
    "The goal of this project is to create a neural network text classifier that performs better then a benchmark Naive Bayes classifier.\n",
    "\n",
    "---"
   ]
  },
  {
   "cell_type": "markdown",
   "metadata": {},
   "source": [
    "## Step 1 — Examine the Dataset"
   ]
  },
  {
   "cell_type": "code",
   "execution_count": 94,
   "metadata": {
    "collapsed": false,
    "deletable": true,
    "editable": true
   },
   "outputs": [
    {
     "name": "stdout",
     "output_type": "stream",
     "text": [
      "Counts by party:\n",
      "            Handle  Tweet\n",
      "Party                    \n",
      "Democrat     42068  42068\n",
      "Republican   44392  44392\n",
      "\n",
      "Counts by handle:\n",
      "                 Party  Tweet\n",
      "Handle                       \n",
      "CongMikeSimpson    199    199\n",
      "DanaRohrabacher    199    199\n",
      "GKButterfield      199    199\n",
      "GerryConnolly      199    199\n",
      "HouseAdmnGOP       199    199\n",
      "Jim_Jordan         197    197\n",
      "JudgeTedPoe        199    199\n",
      "RepBrendanBoyle    199    199\n",
      "RepEliotEngel      199    199\n",
      "RepLaMalfa         199    199\n",
      "RepLouCorrea       199    199\n",
      "RepStephMurphy     199    199\n",
      "RepVisclosky       197    197\n",
      "USRepKeating       199    199\n",
      "chakafattah        199    199\n",
      "collinpeterson      80     80\n",
      "jahimes            199    199\n"
     ]
    }
   ],
   "source": [
    "from sklearn.datasets import load_files\n",
    "import pandas as pd\n",
    "import numpy as np\n",
    "\n",
    "tweets = pd.read_csv('./dataset/ExtractedTweets.csv')\n",
    "\n",
    "tweets.head()\n",
    "\n",
    "\n",
    "\n",
    "party_count = tweets.groupby(['Party',]).count()\n",
    "print (\"Counts by party:\")\n",
    "print(party_count)\n",
    "\n",
    "handles = None\n",
    "handle_counts = None\n",
    "print (\"\\nCounts by handle:\")\n",
    "handles = tweets.groupby('Handle')\n",
    "#for h in handles:\n",
    "#    print h\n",
    "handle_counts = handles.count()\n",
    "print(handle_counts[handle_counts['Tweet']!=200])\n",
    "#handle_counts.mean()\n",
    "#handle_counts.median()\n",
    "#andle_counts = None\n",
    "#andle_counts"
   ]
  }
 ],
 "metadata": {
  "kernelspec": {
   "display_name": "Python 2",
   "language": "python",
   "name": "python2"
  },
  "language_info": {
   "codemirror_mode": {
    "name": "ipython",
    "version": 2
   },
   "file_extension": ".py",
   "mimetype": "text/x-python",
   "name": "python",
   "nbconvert_exporter": "python",
   "pygments_lexer": "ipython2",
   "version": "2.7.10"
  }
 },
 "nbformat": 4,
 "nbformat_minor": 2
}
