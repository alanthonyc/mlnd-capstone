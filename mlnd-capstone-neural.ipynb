{
 "cells": [
  {
   "cell_type": "markdown",
   "metadata": {},
   "source": [
    "# Udacity MLND Capstone — Tweet Classifier"
   ]
  },
  {
   "cell_type": "markdown",
   "metadata": {},
   "source": [
    "## Prep\n",
    "* load libraries\n",
    "* establish baseline algorithm (Multinomial Naive Bayes)"
   ]
  },
  {
   "cell_type": "code",
   "execution_count": 1,
   "metadata": {},
   "outputs": [
    {
     "name": "stderr",
     "output_type": "stream",
     "text": [
      "Using TensorFlow backend.\n"
     ]
    }
   ],
   "source": [
    "import numpy as np\n",
    "import pandas as pd\n",
    "\n",
    "from keras.preprocessing import sequence"
   ]
  },
  {
   "cell_type": "code",
   "execution_count": 2,
   "metadata": {},
   "outputs": [],
   "source": [
    "from sklearn.model_selection import train_test_split\n",
    "from sklearn.metrics import accuracy_score\n",
    "\n",
    "tweets = pd.read_csv(\"./ExtractedTweets.csv\")"
   ]
  },
  {
   "cell_type": "markdown",
   "metadata": {},
   "source": [
    "---\n",
    "\n",
    "## Baseline Algorithm (Multinomial NB)"
   ]
  },
  {
   "cell_type": "code",
   "execution_count": 3,
   "metadata": {},
   "outputs": [
    {
     "name": "stdout",
     "output_type": "stream",
     "text": [
      "(86460, 126330)\n"
     ]
    }
   ],
   "source": [
    "\n",
    "from sklearn.feature_extraction.text import CountVectorizer, TfidfTransformer\n",
    "vectorizer = CountVectorizer()\n",
    "X_train_counts = vectorizer.fit_transform(tweets.Tweet)\n",
    "\n",
    "print(X_train_counts.shape)"
   ]
  },
  {
   "cell_type": "code",
   "execution_count": 4,
   "metadata": {},
   "outputs": [],
   "source": [
    "\n",
    "tweet_accounts = tweets.iloc[:, :2].drop_duplicates()\n",
    "accounts_train, accounts_test = train_test_split(tweet_accounts.Handle, stratify=tweet_accounts.Party, \\\n",
    "                                                 test_size=0.2, random_state=41)\n",
    "\n",
    "tweets_train = tweets[tweets.Handle.isin(accounts_train)].reset_index().drop('index', axis=1)\n",
    "tweets_test = tweets[tweets.Handle.isin(accounts_test)].reset_index().drop('index', axis=1)"
   ]
  },
  {
   "cell_type": "code",
   "execution_count": 36,
   "metadata": {},
   "outputs": [
    {
     "name": "stdout",
     "output_type": "stream",
     "text": [
      "(69186, 3)\n",
      "(17274, 3)\n",
      "207558\n"
     ]
    }
   ],
   "source": [
    "print(tweets_train.shape)\n",
    "print(tweets_test.shape)\n",
    "tweets_train.head()\n",
    "print(tweets_train.size)"
   ]
  },
  {
   "cell_type": "code",
   "execution_count": 5,
   "metadata": {},
   "outputs": [
    {
     "data": {
      "text/plain": [
       "0.75217089267106629"
      ]
     },
     "execution_count": 5,
     "metadata": {},
     "output_type": "execute_result"
    }
   ],
   "source": [
    "from sklearn.naive_bayes import MultinomialNB\n",
    "from sklearn.pipeline import Pipeline\n",
    "\n",
    "mnb_pipeline = Pipeline([('vec', CountVectorizer()), ('tfidf', TfidfTransformer()), ('clf', MultinomialNB())])\n",
    "\n",
    "mnb_pipeline.fit(tweets_train.Tweet, tweets_train.Party)\n",
    "\n",
    "p = mnb_pipeline.predict(tweets_test.Tweet)\n",
    "np.mean(p == tweets_test.Party)"
   ]
  },
  {
   "cell_type": "code",
   "execution_count": 6,
   "metadata": {},
   "outputs": [
    {
     "name": "stdout",
     "output_type": "stream",
     "text": [
      "---\n",
      "[0 0 1 ..., 1 1 1]\n",
      "---\n",
      "[0 0 0 ..., 1 1 1]\n",
      "0.768632113711\n"
     ]
    }
   ],
   "source": [
    "from sklearn.metrics import f1_score as f1\n",
    "\n",
    "#tweets_test.Party.values\n",
    "\n",
    "predicted = pd.factorize(p)[0]\n",
    "actual = pd.factorize(tweets_test.Party)[0]\n",
    "print(\"---\")\n",
    "print(predicted)\n",
    "print(\"---\")\n",
    "print(actual)\n",
    "\n",
    "f1_a = f1(predicted, actual)\n",
    "print(f1_a)\n"
   ]
  },
  {
   "cell_type": "markdown",
   "metadata": {},
   "source": [
    "### Constant Classifier\n",
    "* for comparison"
   ]
  },
  {
   "cell_type": "code",
   "execution_count": 10,
   "metadata": {},
   "outputs": [
    {
     "data": {
      "text/plain": [
       "0.5207826791710084"
      ]
     },
     "execution_count": 10,
     "metadata": {},
     "output_type": "execute_result"
    }
   ],
   "source": [
    "from sklearn.dummy import DummyClassifier\n",
    "\n",
    "dmb_pipeline = Pipeline([('vec', CountVectorizer()), ('tfidf', TfidfTransformer()),\\\n",
    "                         ('clf', DummyClassifier(strategy='constant', constant='Republican'))])\n",
    "\n",
    "dmb_pipeline.fit(tweets_train.Tweet, tweets_train.Party)\n",
    "\n",
    "p = dmb_pipeline.predict(tweets_test.Tweet)\n",
    "np.mean(p == tweets_test.Party)"
   ]
  },
  {
   "cell_type": "markdown",
   "metadata": {},
   "source": [
    "---\n",
    "\n",
    "## Neural Networks"
   ]
  },
  {
   "cell_type": "markdown",
   "metadata": {},
   "source": [
    "### Tensor Setup"
   ]
  },
  {
   "cell_type": "code",
   "execution_count": 11,
   "metadata": {},
   "outputs": [],
   "source": [
    "from keras.models import Sequential\n",
    "from keras.layers import Dense, LSTM, Dropout, Flatten, Activation\n",
    "from keras.layers.convolutional import Conv1D, MaxPooling1D\n",
    "from keras.layers import Conv2D, MaxPooling2D, GlobalAveragePooling1D, MaxPooling3D\n",
    "from keras.layers.embeddings import Embedding\n",
    "\n",
    "from nltk.tokenize.casual import TweetTokenizer\n",
    "from nltk import FreqDist\n",
    "\n",
    "tokenizer = TweetTokenizer(reduce_len=True)\n",
    "\n",
    "top_words = 25000\n",
    "\n",
    "tweets_nn = tweets\n",
    "tweets_nn.Tweet = tweets_nn.Tweet.apply(tokenizer.tokenize)"
   ]
  },
  {
   "cell_type": "code",
   "execution_count": 12,
   "metadata": {},
   "outputs": [
    {
     "name": "stdout",
     "output_type": "stream",
     "text": [
      "...\n",
      "...fdist\n",
      "...terms\n",
      "...term lambda\n",
      "^^^\n"
     ]
    }
   ],
   "source": [
    "print(\"...\")\n",
    "\n",
    "fdist = FreqDist(word for tweet in tweets_nn.Tweet for word in tweet)\n",
    "print(\"...fdist\")\n",
    "terms = [term for term, count in fdist.most_common(top_words)]\n",
    "print(\"...terms\")\n",
    "tweets_nn.Tweet = tweets_nn.Tweet.apply(\\\n",
    "                    lambda tweet:[terms.index(term)\\\n",
    "                    if term in terms else 0 for term in tweet]\n",
    "                )\n",
    "print(\"...term lambda\")\n",
    "\n",
    "nn_tweeters = tweets_nn.iloc[:,:2].drop_duplicates()\n",
    "\n",
    "print(\"^^^\")"
   ]
  },
  {
   "cell_type": "code",
   "execution_count": 13,
   "metadata": {},
   "outputs": [],
   "source": [
    "\n",
    "nn_tweeters_train, nn_tweeters_test = train_test_split(nn_tweeters.Handle,\\\n",
    "                           stratify=nn_tweeters.Party, test_size=0.2, random_state=42)\n",
    "\n",
    "nn_tweets_train = tweets_nn[tweets_nn.Handle.isin(nn_tweeters_train)].reset_index().drop('index', axis=1)\n",
    "nn_tweets_test = tweets_nn[tweets_nn.Handle.isin(nn_tweeters_test)].reset_index().drop('index',axis=1)\n"
   ]
  },
  {
   "cell_type": "code",
   "execution_count": 14,
   "metadata": {},
   "outputs": [
    {
     "name": "stdout",
     "output_type": "stream",
     "text": [
      "(69185, 3)\n",
      "(17275, 3)\n"
     ]
    },
    {
     "data": {
      "text/html": [
       "<div>\n",
       "<style>\n",
       "    .dataframe thead tr:only-child th {\n",
       "        text-align: right;\n",
       "    }\n",
       "\n",
       "    .dataframe thead th {\n",
       "        text-align: left;\n",
       "    }\n",
       "\n",
       "    .dataframe tbody tr th {\n",
       "        vertical-align: top;\n",
       "    }\n",
       "</style>\n",
       "<table border=\"1\" class=\"dataframe\">\n",
       "  <thead>\n",
       "    <tr style=\"text-align: right;\">\n",
       "      <th></th>\n",
       "      <th>Party</th>\n",
       "      <th>Handle</th>\n",
       "      <th>Tweet</th>\n",
       "    </tr>\n",
       "  </thead>\n",
       "  <tbody>\n",
       "    <tr>\n",
       "      <th>0</th>\n",
       "      <td>Democrat</td>\n",
       "      <td>RepJackyRosen</td>\n",
       "      <td>[383, 3, 24, 479, 15, 19, 0, 4, 0, 0, 20652, 1...</td>\n",
       "    </tr>\n",
       "    <tr>\n",
       "      <th>1</th>\n",
       "      <td>Democrat</td>\n",
       "      <td>RepJackyRosen</td>\n",
       "      <td>[25, 1610, 2129, 5443, 468, 4, 119, 108, 7, 69...</td>\n",
       "    </tr>\n",
       "    <tr>\n",
       "      <th>2</th>\n",
       "      <td>Democrat</td>\n",
       "      <td>RepJackyRosen</td>\n",
       "      <td>[168, 275, 3, 0, 6290, 10, 40, 0, 1668, 150, 0...</td>\n",
       "    </tr>\n",
       "    <tr>\n",
       "      <th>3</th>\n",
       "      <td>Democrat</td>\n",
       "      <td>RepJackyRosen</td>\n",
       "      <td>[3891, 5617, 3, 42, 0, 104, 41, 261, 24, 5690,...</td>\n",
       "    </tr>\n",
       "    <tr>\n",
       "      <th>4</th>\n",
       "      <td>Democrat</td>\n",
       "      <td>RepJackyRosen</td>\n",
       "      <td>[52, 22, 4, 4835, 4, 10, 1628, 80, 3, 24, 110,...</td>\n",
       "    </tr>\n",
       "  </tbody>\n",
       "</table>\n",
       "</div>"
      ],
      "text/plain": [
       "      Party         Handle                                              Tweet\n",
       "0  Democrat  RepJackyRosen  [383, 3, 24, 479, 15, 19, 0, 4, 0, 0, 20652, 1...\n",
       "1  Democrat  RepJackyRosen  [25, 1610, 2129, 5443, 468, 4, 119, 108, 7, 69...\n",
       "2  Democrat  RepJackyRosen  [168, 275, 3, 0, 6290, 10, 40, 0, 1668, 150, 0...\n",
       "3  Democrat  RepJackyRosen  [3891, 5617, 3, 42, 0, 104, 41, 261, 24, 5690,...\n",
       "4  Democrat  RepJackyRosen  [52, 22, 4, 4835, 4, 10, 1628, 80, 3, 24, 110,..."
      ]
     },
     "execution_count": 14,
     "metadata": {},
     "output_type": "execute_result"
    }
   ],
   "source": [
    "print(nn_tweets_train.shape)\n",
    "print(nn_tweets_test.shape)\n",
    "nn_tweets_test.head()"
   ]
  },
  {
   "cell_type": "code",
   "execution_count": 32,
   "metadata": {},
   "outputs": [
    {
     "name": "stdout",
     "output_type": "stream",
     "text": [
      "(69186, 3)\n"
     ]
    },
    {
     "ename": "ValueError",
     "evalue": "setting an array element with a sequence.",
     "output_type": "error",
     "traceback": [
      "\u001b[0;31m---------------------------------------------------------------------------\u001b[0m",
      "\u001b[0;31mValueError\u001b[0m                                Traceback (most recent call last)",
      "\u001b[0;32m<ipython-input-32-df94d2ba74d2>\u001b[0m in \u001b[0;36m<module>\u001b[0;34m()\u001b[0m\n\u001b[1;32m     11\u001b[0m \u001b[0;34m\u001b[0m\u001b[0m\n\u001b[1;32m     12\u001b[0m \u001b[0mdc\u001b[0m \u001b[0;34m=\u001b[0m \u001b[0mDummyClassifier\u001b[0m\u001b[0;34m(\u001b[0m\u001b[0mstrategy\u001b[0m\u001b[0;34m=\u001b[0m\u001b[0;34m'constant'\u001b[0m\u001b[0;34m,\u001b[0m \u001b[0mconstant\u001b[0m\u001b[0;34m=\u001b[0m\u001b[0;36m0\u001b[0m\u001b[0;34m)\u001b[0m\u001b[0;34m\u001b[0m\u001b[0m\n\u001b[0;32m---> 13\u001b[0;31m \u001b[0mdc\u001b[0m\u001b[0;34m.\u001b[0m\u001b[0mfit\u001b[0m\u001b[0;34m(\u001b[0m\u001b[0mnn_tweets_train\u001b[0m\u001b[0;34m.\u001b[0m\u001b[0mTweet\u001b[0m\u001b[0;34m,\u001b[0m \u001b[0mnn_tweets_train\u001b[0m\u001b[0;34m.\u001b[0m\u001b[0mParty\u001b[0m\u001b[0;34m)\u001b[0m\u001b[0;34m\u001b[0m\u001b[0m\n\u001b[0m",
      "\u001b[0;32m/usr/local/lib/python3.5/dist-packages/sklearn/dummy.py\u001b[0m in \u001b[0;36mfit\u001b[0;34m(self, X, y, sample_weight)\u001b[0m\n\u001b[1;32m    108\u001b[0m         \"\"\"\n\u001b[1;32m    109\u001b[0m         X = check_array(X, accept_sparse=['csr', 'csc', 'coo'],\n\u001b[0;32m--> 110\u001b[0;31m                         force_all_finite=False)\n\u001b[0m\u001b[1;32m    111\u001b[0m \u001b[0;34m\u001b[0m\u001b[0m\n\u001b[1;32m    112\u001b[0m         if self.strategy not in (\"most_frequent\", \"stratified\", \"uniform\",\n",
      "\u001b[0;32m/usr/local/lib/python3.5/dist-packages/sklearn/utils/validation.py\u001b[0m in \u001b[0;36mcheck_array\u001b[0;34m(array, accept_sparse, dtype, order, copy, force_all_finite, ensure_2d, allow_nd, ensure_min_samples, ensure_min_features, warn_on_dtype, estimator)\u001b[0m\n\u001b[1;32m    400\u001b[0m                                       force_all_finite)\n\u001b[1;32m    401\u001b[0m     \u001b[0;32melse\u001b[0m\u001b[0;34m:\u001b[0m\u001b[0;34m\u001b[0m\u001b[0m\n\u001b[0;32m--> 402\u001b[0;31m         \u001b[0marray\u001b[0m \u001b[0;34m=\u001b[0m \u001b[0mnp\u001b[0m\u001b[0;34m.\u001b[0m\u001b[0marray\u001b[0m\u001b[0;34m(\u001b[0m\u001b[0marray\u001b[0m\u001b[0;34m,\u001b[0m \u001b[0mdtype\u001b[0m\u001b[0;34m=\u001b[0m\u001b[0mdtype\u001b[0m\u001b[0;34m,\u001b[0m \u001b[0morder\u001b[0m\u001b[0;34m=\u001b[0m\u001b[0morder\u001b[0m\u001b[0;34m,\u001b[0m \u001b[0mcopy\u001b[0m\u001b[0;34m=\u001b[0m\u001b[0mcopy\u001b[0m\u001b[0;34m)\u001b[0m\u001b[0;34m\u001b[0m\u001b[0m\n\u001b[0m\u001b[1;32m    403\u001b[0m \u001b[0;34m\u001b[0m\u001b[0m\n\u001b[1;32m    404\u001b[0m         \u001b[0;32mif\u001b[0m \u001b[0mensure_2d\u001b[0m\u001b[0;34m:\u001b[0m\u001b[0;34m\u001b[0m\u001b[0m\n",
      "\u001b[0;31mValueError\u001b[0m: setting an array element with a sequence."
     ]
    }
   ],
   "source": [
    "print(tweets_train.shape)\n",
    "tweets_train.head()\n",
    "\n",
    "##dmb_nn_pipeline = Pipeline([('vec', CountVectorizer()), ('tfidf', TfidfTransformer()),\\\n",
    "##                         ('clf', DummyClassifier(strategy='constant', constant='Republican'))])\n",
    "\n",
    "##dmb_nn_pipeline.fit(nn_tweets_train.Tweet, nn_tweets_train.Party)\n",
    "\n",
    "##p = dmb_nn_pipeline.predict(nn_tweets_test.Tweet)\n",
    "##np.mean(p == tweets_test.Party)\n",
    "\n",
    "dc = DummyClassifier(strategy='constant', constant=0)\n",
    "dc.fit(nn_tweets_train.Tweet, nn_tweets_train.Party)"
   ]
  },
  {
   "cell_type": "code",
   "execution_count": 15,
   "metadata": {},
   "outputs": [
    {
     "data": {
      "text/html": [
       "<div>\n",
       "<style>\n",
       "    .dataframe thead tr:only-child th {\n",
       "        text-align: right;\n",
       "    }\n",
       "\n",
       "    .dataframe thead th {\n",
       "        text-align: left;\n",
       "    }\n",
       "\n",
       "    .dataframe tbody tr th {\n",
       "        vertical-align: top;\n",
       "    }\n",
       "</style>\n",
       "<table border=\"1\" class=\"dataframe\">\n",
       "  <thead>\n",
       "    <tr style=\"text-align: right;\">\n",
       "      <th></th>\n",
       "      <th>Party</th>\n",
       "      <th>Handle</th>\n",
       "      <th>Tweet</th>\n",
       "    </tr>\n",
       "  </thead>\n",
       "  <tbody>\n",
       "    <tr>\n",
       "      <th>0</th>\n",
       "      <td>Democrat</td>\n",
       "      <td>RepDarrenSoto</td>\n",
       "      <td>[51, 4, 221, 1210, 161, 3, 3292, 2, 191, 3, 77...</td>\n",
       "    </tr>\n",
       "    <tr>\n",
       "      <th>1</th>\n",
       "      <td>Democrat</td>\n",
       "      <td>RepDarrenSoto</td>\n",
       "      <td>[11, 23147, 6, 4373, 5894, 3412, 60, 0, 7159, ...</td>\n",
       "    </tr>\n",
       "    <tr>\n",
       "      <th>2</th>\n",
       "      <td>Democrat</td>\n",
       "      <td>RepDarrenSoto</td>\n",
       "      <td>[11, 11862, 6, 2, 1967, 11542, 21, 1222, 3004,...</td>\n",
       "    </tr>\n",
       "    <tr>\n",
       "      <th>3</th>\n",
       "      <td>Democrat</td>\n",
       "      <td>RepDarrenSoto</td>\n",
       "      <td>[11, 0, 6, 1352, 17, 1967, 2, 87, 10, 381, 0, ...</td>\n",
       "    </tr>\n",
       "    <tr>\n",
       "      <th>4</th>\n",
       "      <td>Democrat</td>\n",
       "      <td>RepDarrenSoto</td>\n",
       "      <td>[11, 0, 6, 1222, 1077, 1830, 13, 2562, 752, 45...</td>\n",
       "    </tr>\n",
       "  </tbody>\n",
       "</table>\n",
       "</div>"
      ],
      "text/plain": [
       "      Party         Handle                                              Tweet\n",
       "0  Democrat  RepDarrenSoto  [51, 4, 221, 1210, 161, 3, 3292, 2, 191, 3, 77...\n",
       "1  Democrat  RepDarrenSoto  [11, 23147, 6, 4373, 5894, 3412, 60, 0, 7159, ...\n",
       "2  Democrat  RepDarrenSoto  [11, 11862, 6, 2, 1967, 11542, 21, 1222, 3004,...\n",
       "3  Democrat  RepDarrenSoto  [11, 0, 6, 1352, 17, 1967, 2, 87, 10, 381, 0, ...\n",
       "4  Democrat  RepDarrenSoto  [11, 0, 6, 1222, 1077, 1830, 13, 2562, 752, 45..."
      ]
     },
     "execution_count": 15,
     "metadata": {},
     "output_type": "execute_result"
    }
   ],
   "source": [
    "nn_tweets_train.head()\n"
   ]
  },
  {
   "cell_type": "code",
   "execution_count": 16,
   "metadata": {},
   "outputs": [],
   "source": [
    "np.random.seed(42)\n",
    "\n",
    "X_train = np.array(nn_tweets_train.Tweet)\n",
    "X_test = np.array(nn_tweets_test.Tweet)\n",
    "y_train = np.array((nn_tweets_train.Party == 'Democrat').astype(int))\n",
    "y_test = np.array((nn_tweets_test.Party == 'Democrat').astype(int))"
   ]
  },
  {
   "cell_type": "code",
   "execution_count": 17,
   "metadata": {},
   "outputs": [],
   "source": [
    "tweet_length = 60\n",
    "X_train = sequence.pad_sequences(X_train, maxlen=tweet_length)\n",
    "X_test = sequence.pad_sequences(X_test, maxlen=tweet_length)"
   ]
  },
  {
   "cell_type": "code",
   "execution_count": 18,
   "metadata": {},
   "outputs": [],
   "source": [
    "import keras.backend as K\n",
    "\n",
    "# by epoch\n",
    "def my_f1_score(y_true, y_pred):\n",
    "\n",
    "    # Count positive samples.\n",
    "    c1 = K.sum(K.round(K.clip(y_true * y_pred, 0, 1)))\n",
    "    c2 = K.sum(K.round(K.clip(y_pred, 0, 1)))\n",
    "    c3 = K.sum(K.round(K.clip(y_true, 0, 1)))\n",
    "\n",
    "    # If there are no true samples, fix the F1 score at 0.\n",
    "    if c3 == 0:\n",
    "        return c3\n",
    "\n",
    "    # How many selected items are relevant?\n",
    "    precision = c1 / c2\n",
    "\n",
    "    # How many relevant items are selected?\n",
    "    recall = c1 / c3\n",
    "\n",
    "    # Calculate f1_score\n",
    "    f1_score = 2 * (precision * recall) / (precision + recall)\n",
    "    return f1_score\n",
    "\n",
    "\n",
    "# from Medium blog post: https://medium.com/@thongonary/how-to-compute-f1-score-for-each-epoch-in-keras-a1acd17715a2\n",
    "\n",
    "from keras.callbacks import Callback\n",
    "from sklearn.metrics import confusion_matrix, f1_score, precision_score, recall_score\n",
    "\n",
    "class MyMetrics(Callback):    \n",
    "    def on_train_begin(self, logs={}):\n",
    "        self.val_f1s = []\n",
    "        self.val_recalls = []\n",
    "        self.val_precisions = []\n",
    "\n",
    "    def on_epoch_end(self, epoch, logs={}):\n",
    "        val_predict = (np.asarray(self.model.predict(self.validation_data[0]))).round()\n",
    "        val_targ = self.validation_data[1]\n",
    "        _val_f1 = f1_score(val_targ, val_predict)\n",
    "        _val_recall = recall_score(val_targ, val_predict)\n",
    "        _val_precision = precision_score(val_targ, val_predict)\n",
    "        self.val_f1s.append(_val_f1)\n",
    "        self.val_recalls.append(_val_recall)\n",
    "        self.val_precisions.append(_val_precision)\n",
    "        print(\"— val_f1: %f — val_precision: %f — val_recall %f\" %(_val_f1, _val_precision, _val_recall))\n",
    "        return\n"
   ]
  },
  {
   "cell_type": "code",
   "execution_count": 19,
   "metadata": {},
   "outputs": [],
   "source": [
    "# actual metric\n",
    "# from so: https://stackoverflow.com/a/45305384/54423\n",
    "def my_f1_metric(y_true, y_pred):\n",
    "    def recall(y_true, y_pred):\n",
    "        \"\"\"Recall metric.\n",
    "\n",
    "        Only computes a batch-wise average of recall.\n",
    "\n",
    "        Computes the recall, a metric for multi-label classification of\n",
    "        how many relevant items are selected.\n",
    "        \"\"\"\n",
    "        true_positives = K.sum(K.round(K.clip(y_true * y_pred, 0, 1)))\n",
    "        possible_positives = K.sum(K.round(K.clip(y_true, 0, 1)))\n",
    "        recall = true_positives / (possible_positives + K.epsilon())\n",
    "        return recall\n",
    "\n",
    "    def precision(y_true, y_pred):\n",
    "        \"\"\"Precision metric.\n",
    "\n",
    "        Only computes a batch-wise average of precision.\n",
    "\n",
    "        Computes the precision, a metric for multi-label classification of\n",
    "        how many selected items are relevant.\n",
    "        \"\"\"\n",
    "        true_positives = K.sum(K.round(K.clip(y_true * y_pred, 0, 1)))\n",
    "        predicted_positives = K.sum(K.round(K.clip(y_pred, 0, 1)))\n",
    "        precision = true_positives / (predicted_positives + K.epsilon())\n",
    "        return precision\n",
    "    precision = precision(y_true, y_pred)\n",
    "    recall = recall(y_true, y_pred)\n",
    "    return 2*((precision*recall)/(precision+recall+K.epsilon()))\n",
    "\n",
    "\n",
    "def my_recall_metric(y_true, y_pred):\n",
    "    \"\"\"Recall metric.\n",
    "\n",
    "    Only computes a batch-wise average of recall.\n",
    "\n",
    "    Computes the recall, a metric for multi-label classification of\n",
    "    how many relevant items are selected.\n",
    "    \"\"\"\n",
    "    true_positives = K.sum(K.round(K.clip(y_true * y_pred, 0, 1)))\n",
    "    possible_positives = K.sum(K.round(K.clip(y_true, 0, 1)))\n",
    "    recall = true_positives / (possible_positives + K.epsilon())\n",
    "    return recall\n",
    "\n",
    "def my_precision_metric(y_true, y_pred):\n",
    "    \"\"\"Precision metric.\n",
    "\n",
    "    Only computes a batch-wise average of precision.\n",
    "\n",
    "    Computes the precision, a metric for multi-label classification of\n",
    "    how many selected items are relevant.\n",
    "    \"\"\"\n",
    "    true_positives = K.sum(K.round(K.clip(y_true * y_pred, 0, 1)))\n",
    "    predicted_positives = K.sum(K.round(K.clip(y_pred, 0, 1)))\n",
    "    precision = true_positives / (predicted_positives + K.epsilon())\n",
    "    return precision"
   ]
  },
  {
   "cell_type": "markdown",
   "metadata": {},
   "source": [
    "### Neural Net — Model 1 — LSTM Recurrent Neural Network"
   ]
  },
  {
   "cell_type": "code",
   "execution_count": 20,
   "metadata": {},
   "outputs": [
    {
     "name": "stdout",
     "output_type": "stream",
     "text": [
      "_________________________________________________________________\n",
      "Layer (type)                 Output Shape              Param #   \n",
      "=================================================================\n",
      "embedding_1 (Embedding)      (None, 60, 32)            800000    \n",
      "_________________________________________________________________\n",
      "conv1d_1 (Conv1D)            (None, 60, 32)            3104      \n",
      "_________________________________________________________________\n",
      "max_pooling1d_1 (MaxPooling1 (None, 30, 32)            0         \n",
      "_________________________________________________________________\n",
      "lstm_1 (LSTM)                (None, 100)               53200     \n",
      "_________________________________________________________________\n",
      "dense_1 (Dense)              (None, 1)                 101       \n",
      "=================================================================\n",
      "Total params: 856,405\n",
      "Trainable params: 856,405\n",
      "Non-trainable params: 0\n",
      "_________________________________________________________________\n",
      "None\n"
     ]
    }
   ],
   "source": [
    "#my_metrics1 = MyMetrics()\n",
    "embedding_vector_length = 32\n",
    "\n",
    "model = Sequential()\n",
    "model.add(Embedding(top_words, embedding_vector_length, input_length=tweet_length))\n",
    "model.add(Conv1D(filters=32, kernel_size=3, padding='same', activation='relu'))\n",
    "model.add(MaxPooling1D(pool_size=2))\n",
    "model.add(LSTM(100, dropout=0.2, recurrent_dropout=0.2))\n",
    "model.add(Dense(1, activation='sigmoid'))\n",
    "\n",
    "print(model.summary())"
   ]
  },
  {
   "cell_type": "code",
   "execution_count": 21,
   "metadata": {},
   "outputs": [
    {
     "name": "stdout",
     "output_type": "stream",
     "text": [
      "[1 1 1 ..., 0 0 0]\n",
      "---\n",
      "(69185,)\n",
      "Tensor(\"Rank:0\", shape=(), dtype=int32)\n",
      "Tensor(\"Rank_1:0\", shape=(), dtype=int32)\n",
      "(17275,)\n",
      "int64\n",
      "69185\n",
      "(69185,)\n",
      "Tensor(\"Rank_2:0\", shape=(), dtype=int32)\n"
     ]
    }
   ],
   "source": [
    "import tensorflow as tf\n",
    "print(y_train)\n",
    "print(\"---\")\n",
    "print(y_train.shape)\n",
    "#y_test.shape\n",
    "print(tf.rank(y_train))\n",
    "print(tf.rank(y_test))\n",
    "print(y_test.shape)\n",
    "print(y_train.dtype)\n",
    "\n",
    "print(y_train.shape[0])\n",
    "zeros = tf.zeros(y_train.shape[0])\n",
    "\n",
    "print(zeros.shape)\n",
    "print(tf.rank(zeros))"
   ]
  },
  {
   "cell_type": "code",
   "execution_count": 22,
   "metadata": {},
   "outputs": [
    {
     "name": "stdout",
     "output_type": "stream",
     "text": [
      "Epoch 1/3\n",
      "69185/69185 [==============================] - 53s - loss: 0.4848 - binary_accuracy: 0.7466 - my_f1_metric: 0.7204 - my_recall_metric: 0.7240 - my_precision_metric: 0.7362    \n",
      "Epoch 2/3\n",
      "69185/69185 [==============================] - 52s - loss: 0.3120 - binary_accuracy: 0.8576 - my_f1_metric: 0.8506 - my_recall_metric: 0.8451 - my_precision_metric: 0.8610    \n",
      "Epoch 3/3\n",
      "69185/69185 [==============================] - 52s - loss: 0.2407 - binary_accuracy: 0.8943 - my_f1_metric: 0.8892 - my_recall_metric: 0.8834 - my_precision_metric: 0.8991    \n"
     ]
    },
    {
     "data": {
      "text/plain": [
       "<keras.callbacks.History at 0x7fa4529fbc50>"
      ]
     },
     "execution_count": 22,
     "metadata": {},
     "output_type": "execute_result"
    }
   ],
   "source": [
    "\n",
    "#model.compile(loss='binary_crossentropy', optimizer='adam', metrics=['acc', 'binary_accuracy', my_f1_metric, my_recall_metric, my_precision_metric])\n",
    "model.compile(loss='binary_crossentropy', optimizer='adam', metrics=['binary_accuracy', my_f1_metric,\\\n",
    "                                                                    my_recall_metric, my_precision_metric])\n",
    "model.fit(X_train, y_train, epochs=3, batch_size=64)\n",
    "#model.fit(X_train, y_train, epochs=3, batch_size=64, callbacks=[my_metrics1,], validation_data=(X_test, y_test))\n"
   ]
  },
  {
   "cell_type": "code",
   "execution_count": 28,
   "metadata": {},
   "outputs": [
    {
     "name": "stdout",
     "output_type": "stream",
     "text": [
      "Accuracy: 71.80%\n",
      "[1.3168071156990337, 0.71803183791261338, 0.38815476948894051, 0.3337109779103965, 0.4755344221940434]\n"
     ]
    }
   ],
   "source": [
    "scores = model.evaluate(X_test, y_test, verbose=0)\n",
    "\n",
    "print(\"Accuracy: %.2f%%\" % (scores[1]*100))\n",
    "\n",
    "print(scores)"
   ]
  },
  {
   "cell_type": "markdown",
   "metadata": {},
   "source": [
    "### Neural Net — Model 2 — VGG Net Basis"
   ]
  },
  {
   "cell_type": "code",
   "execution_count": 51,
   "metadata": {},
   "outputs": [
    {
     "name": "stdout",
     "output_type": "stream",
     "text": [
      "(69185, 80)\n",
      "_________________________________________________________________\n",
      "Layer (type)                 Output Shape              Param #   \n",
      "=================================================================\n",
      "embedding_18 (Embedding)     (None, 80, 32)            800000    \n",
      "_________________________________________________________________\n",
      "conv1d_38 (Conv1D)           (None, 80, 64)            6208      \n",
      "_________________________________________________________________\n",
      "max_pooling1d_38 (MaxPooling (None, 40, 64)            0         \n",
      "_________________________________________________________________\n",
      "dropout_26 (Dropout)         (None, 40, 64)            0         \n",
      "_________________________________________________________________\n",
      "conv1d_39 (Conv1D)           (None, 40, 64)            12352     \n",
      "_________________________________________________________________\n",
      "max_pooling1d_39 (MaxPooling (None, 20, 64)            0         \n",
      "_________________________________________________________________\n",
      "dropout_27 (Dropout)         (None, 20, 64)            0         \n",
      "_________________________________________________________________\n",
      "conv1d_40 (Conv1D)           (None, 20, 64)            12352     \n",
      "_________________________________________________________________\n",
      "max_pooling1d_40 (MaxPooling (None, 10, 64)            0         \n",
      "_________________________________________________________________\n",
      "dropout_28 (Dropout)         (None, 10, 64)            0         \n",
      "_________________________________________________________________\n",
      "conv1d_41 (Conv1D)           (None, 10, 64)            12352     \n",
      "_________________________________________________________________\n",
      "max_pooling1d_41 (MaxPooling (None, 5, 64)             0         \n",
      "_________________________________________________________________\n",
      "dropout_29 (Dropout)         (None, 5, 64)             0         \n",
      "_________________________________________________________________\n",
      "conv1d_42 (Conv1D)           (None, 5, 64)             12352     \n",
      "_________________________________________________________________\n",
      "max_pooling1d_42 (MaxPooling (None, 2, 64)             0         \n",
      "_________________________________________________________________\n",
      "dropout_30 (Dropout)         (None, 2, 64)             0         \n",
      "_________________________________________________________________\n",
      "lstm_18 (LSTM)               (None, 100)               66000     \n",
      "_________________________________________________________________\n",
      "dense_18 (Dense)             (None, 1)                 101       \n",
      "=================================================================\n",
      "Total params: 921,717\n",
      "Trainable params: 921,717\n",
      "Non-trainable params: 0\n",
      "_________________________________________________________________\n"
     ]
    }
   ],
   "source": [
    "\n",
    "print(X_train.shape)\n",
    "\n",
    "model2 = Sequential()\n",
    "\n",
    "model2.add(Embedding(top_words, embedding_vector_length, input_length=tweet_length))\n",
    "\n",
    "model2.add(Conv1D(filters=64, kernel_size=3, padding='same', activation='relu'))\n",
    "model2.add(MaxPooling1D(pool_size=2))\n",
    "model2.add(Dropout(0.2))\n",
    "\n",
    "model2.add(Conv1D(filters=64, kernel_size=3, padding='same', activation='relu'))\n",
    "model2.add(MaxPooling1D(pool_size=2))\n",
    "model2.add(Dropout(0.2))\n",
    "\n",
    "model2.add(Conv1D(filters=64, kernel_size=3, padding='same', activation='relu'))\n",
    "model2.add(MaxPooling1D(pool_size=2))\n",
    "model2.add(Dropout(0.2))\n",
    "\n",
    "model2.add(Conv1D(filters=64, kernel_size=3, padding='same', activation='relu'))\n",
    "model2.add(MaxPooling1D(pool_size=2))\n",
    "model2.add(Dropout(0.2))\n",
    "\n",
    "model2.add(Conv1D(filters=64, kernel_size=3, padding='same', activation='relu'))\n",
    "model2.add(MaxPooling1D(pool_size=2))\n",
    "model2.add(Dropout(0.2))\n",
    "\n",
    "model2.add(LSTM(100))\n",
    "\n",
    "model2.add(Dense(1, activation='sigmoid'))\n",
    "\n",
    "model2.summary()\n"
   ]
  },
  {
   "cell_type": "code",
   "execution_count": 52,
   "metadata": {},
   "outputs": [
    {
     "name": "stdout",
     "output_type": "stream",
     "text": [
      "Epoch 1/3\n",
      "69185/69185 [==============================] - 17s - loss: 0.5224 - acc: 0.7075 - my_f1_metric: 0.6111    \n",
      "Epoch 2/3\n",
      "69185/69185 [==============================] - 16s - loss: 0.3245 - acc: 0.8513 - my_f1_metric: 0.8425    \n",
      "Epoch 3/3\n",
      "69185/69185 [==============================] - 16s - loss: 0.2368 - acc: 0.8968 - my_f1_metric: 0.8910    \n",
      "Accuracy: 72.72%\n",
      "[0.61286864787900841, 0.72723589002137246, 0.37038056455024243]\n"
     ]
    }
   ],
   "source": [
    "my_metrics2 = MyMetrics()\n",
    "\n",
    "model2.compile(loss='binary_crossentropy', optimizer='adam', metrics=['accuracy', my_f1_metric])\n",
    "\n",
    "model2.fit(X_train, y_train, epochs=3, batch_size=64)\n",
    "#model2.fit(X_train, y_train, epochs=3, batch_size=64, callbacks=[my_metrics2,], validation_data=(X_test, y_test))\n",
    "\n",
    "scores2 = model2.evaluate(X_test, y_test, verbose=0)\n",
    "print(\"Accuracy: %.2f%%\" % (scores2[1]*100))\n",
    "print(scores2)"
   ]
  },
  {
   "cell_type": "markdown",
   "metadata": {},
   "source": [
    "### Neural Net 3 — Bigger VGG Net"
   ]
  },
  {
   "cell_type": "code",
   "execution_count": 53,
   "metadata": {},
   "outputs": [
    {
     "name": "stdout",
     "output_type": "stream",
     "text": [
      "(69185, 80)\n",
      "_________________________________________________________________\n",
      "Layer (type)                 Output Shape              Param #   \n",
      "=================================================================\n",
      "embedding_19 (Embedding)     (None, 80, 64)            1600000   \n",
      "_________________________________________________________________\n",
      "conv1d_43 (Conv1D)           (None, 80, 256)           196864    \n",
      "_________________________________________________________________\n",
      "max_pooling1d_43 (MaxPooling (None, 40, 256)           0         \n",
      "_________________________________________________________________\n",
      "dropout_31 (Dropout)         (None, 40, 256)           0         \n",
      "_________________________________________________________________\n",
      "conv1d_44 (Conv1D)           (None, 40, 256)           786688    \n",
      "_________________________________________________________________\n",
      "max_pooling1d_44 (MaxPooling (None, 20, 256)           0         \n",
      "_________________________________________________________________\n",
      "dropout_32 (Dropout)         (None, 20, 256)           0         \n",
      "_________________________________________________________________\n",
      "conv1d_45 (Conv1D)           (None, 20, 256)           786688    \n",
      "_________________________________________________________________\n",
      "max_pooling1d_45 (MaxPooling (None, 10, 256)           0         \n",
      "_________________________________________________________________\n",
      "dropout_33 (Dropout)         (None, 10, 256)           0         \n",
      "_________________________________________________________________\n",
      "conv1d_46 (Conv1D)           (None, 10, 256)           786688    \n",
      "_________________________________________________________________\n",
      "max_pooling1d_46 (MaxPooling (None, 5, 256)            0         \n",
      "_________________________________________________________________\n",
      "dropout_34 (Dropout)         (None, 5, 256)            0         \n",
      "_________________________________________________________________\n",
      "conv1d_47 (Conv1D)           (None, 5, 256)            786688    \n",
      "_________________________________________________________________\n",
      "max_pooling1d_47 (MaxPooling (None, 2, 256)            0         \n",
      "_________________________________________________________________\n",
      "dropout_35 (Dropout)         (None, 2, 256)            0         \n",
      "_________________________________________________________________\n",
      "lstm_19 (LSTM)               (None, 400)               1051200   \n",
      "_________________________________________________________________\n",
      "dense_19 (Dense)             (None, 1)                 401       \n",
      "=================================================================\n",
      "Total params: 5,995,217\n",
      "Trainable params: 5,995,217\n",
      "Non-trainable params: 0\n",
      "_________________________________________________________________\n"
     ]
    }
   ],
   "source": [
    "\n",
    "embedding_vector_length_longer = 64\n",
    "tweet_length = 80\n",
    "X_train = sequence.pad_sequences(X_train, maxlen=tweet_length)\n",
    "X_test = sequence.pad_sequences(X_test, maxlen=tweet_length)\n",
    "print(X_train.shape)\n",
    "\n",
    "model3 = Sequential()\n",
    "\n",
    "model3.add(Embedding(top_words, embedding_vector_length_longer, input_length=tweet_length))\n",
    "\n",
    "model3.add(Conv1D(filters=256, kernel_size=12, padding='same', activation='relu'))\n",
    "model3.add(MaxPooling1D(pool_size=2))\n",
    "model3.add(Dropout(0.2))\n",
    "\n",
    "model3.add(Conv1D(filters=256, kernel_size=12, padding='same', activation='relu'))\n",
    "model3.add(MaxPooling1D(pool_size=2))\n",
    "model3.add(Dropout(0.2))\n",
    "\n",
    "model3.add(Conv1D(filters=256, kernel_size=12, padding='same', activation='relu'))\n",
    "model3.add(MaxPooling1D(pool_size=2))\n",
    "model3.add(Dropout(0.2))\n",
    "\n",
    "model3.add(Conv1D(filters=256, kernel_size=12, padding='same', activation='relu'))\n",
    "model3.add(MaxPooling1D(pool_size=2))\n",
    "model3.add(Dropout(0.2))\n",
    "\n",
    "model3.add(Conv1D(filters=256, kernel_size=12, padding='same', activation='relu'))\n",
    "model3.add(MaxPooling1D(pool_size=2))\n",
    "model3.add(Dropout(0.2))\n",
    "\n",
    "#model3.add(Conv1D(filters=256, kernel_size=12, padding='same', activation='relu'))\n",
    "#model3.add(MaxPooling1D(pool_size=2))\n",
    "#model3.add(Dropout(0.2))\n",
    "\n",
    "\n",
    "model3.add(LSTM(400, dropout=0.2, recurrent_dropout=0.2))\n",
    "model3.add(Dense(1, activation='sigmoid'))\n",
    "\n",
    "model3.summary()"
   ]
  },
  {
   "cell_type": "code",
   "execution_count": 54,
   "metadata": {},
   "outputs": [
    {
     "name": "stdout",
     "output_type": "stream",
     "text": [
      "Epoch 1/3\n",
      "69185/69185 [==============================] - 50s - loss: 0.5083 - acc: 0.7230 - my_f1_metric: 0.6406    \n",
      "Epoch 2/3\n",
      "69185/69185 [==============================] - 48s - loss: 0.3093 - acc: 0.8576 - my_f1_metric: 0.8508    \n",
      "Epoch 3/3\n",
      "69185/69185 [==============================] - 48s - loss: 0.2035 - acc: 0.9120 - my_f1_metric: 0.9082    \n",
      "Accuracy: 71.65%\n",
      "[0.76729745943363425, 0.71646888565568612, 0.38666918192862082]\n"
     ]
    }
   ],
   "source": [
    "#my_metrics3 = MyMetrics()\n",
    "\n",
    "model3.compile(loss='binary_crossentropy', optimizer='adam', metrics=['accuracy', my_f1_metric])\n",
    "model3.fit(X_train, y_train, epochs=3, batch_size=64)\n",
    "\n",
    "#model3.fit(X_train, y_train, epochs=3, batch_size=64, callbacks=[my_metrics3,], validation_data=(X_test, y_test))\n",
    "\n",
    "\n",
    "scores3 = model3.evaluate(X_test, y_test, verbose=0)\n",
    "print(\"Accuracy: %.2f%%\" % (scores3[1]*100))\n",
    "print(scores3)"
   ]
  },
  {
   "cell_type": "code",
   "execution_count": null,
   "metadata": {},
   "outputs": [],
   "source": []
  }
 ],
 "metadata": {
  "kernelspec": {
   "display_name": "Python 3",
   "language": "python",
   "name": "python3"
  },
  "language_info": {
   "codemirror_mode": {
    "name": "ipython",
    "version": 3
   },
   "file_extension": ".py",
   "mimetype": "text/x-python",
   "name": "python",
   "nbconvert_exporter": "python",
   "pygments_lexer": "ipython3",
   "version": "3.5.2"
  }
 },
 "nbformat": 4,
 "nbformat_minor": 2
}
