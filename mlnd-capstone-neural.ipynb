{
 "cells": [
  {
   "cell_type": "markdown",
   "metadata": {},
   "source": [
    "# Udacity MLND Capstone — Tweet Classifier"
   ]
  },
  {
   "cell_type": "markdown",
   "metadata": {},
   "source": [
    "## Prep\n",
    "* load libraries\n",
    "* establish baseline algorithm (Multinomial Naive Bayes)"
   ]
  },
  {
   "cell_type": "code",
   "execution_count": 1,
   "metadata": {},
   "outputs": [
    {
     "name": "stderr",
     "output_type": "stream",
     "text": [
      "Using TensorFlow backend.\n"
     ]
    }
   ],
   "source": [
    "import numpy as np\n",
    "import pandas as pd\n",
    "\n",
    "from keras.preprocessing import sequence"
   ]
  },
  {
   "cell_type": "code",
   "execution_count": 2,
   "metadata": {},
   "outputs": [],
   "source": [
    "from sklearn.model_selection import train_test_split\n",
    "from sklearn.metrics import accuracy_score\n",
    "\n",
    "tweets = pd.read_csv(\"./ExtractedTweets.csv\")"
   ]
  },
  {
   "cell_type": "markdown",
   "metadata": {},
   "source": [
    "---\n",
    "\n",
    "## Baseline Algorithm (Multinomial NB)"
   ]
  },
  {
   "cell_type": "code",
   "execution_count": 3,
   "metadata": {},
   "outputs": [
    {
     "name": "stdout",
     "output_type": "stream",
     "text": [
      "(86460, 126330)\n"
     ]
    }
   ],
   "source": [
    "\n",
    "from sklearn.feature_extraction.text import CountVectorizer, TfidfTransformer\n",
    "vectorizer = CountVectorizer()\n",
    "X_train_counts = vectorizer.fit_transform(tweets.Tweet)\n",
    "\n",
    "print(X_train_counts.shape)"
   ]
  },
  {
   "cell_type": "code",
   "execution_count": 4,
   "metadata": {},
   "outputs": [],
   "source": [
    "\n",
    "tweet_accounts = tweets.iloc[:, :2].drop_duplicates()\n",
    "accounts_train, accounts_test = train_test_split(tweet_accounts.Handle, stratify=tweet_accounts.Party, \\\n",
    "                                                 test_size=0.2, random_state=41)\n",
    "\n",
    "tweets_train = tweets[tweets.Handle.isin(accounts_train)].reset_index().drop('index', axis=1)\n",
    "tweets_test = tweets[tweets.Handle.isin(accounts_test)].reset_index().drop('index', axis=1)"
   ]
  },
  {
   "cell_type": "code",
   "execution_count": 5,
   "metadata": {},
   "outputs": [
    {
     "data": {
      "text/plain": [
       "0.75217089267106629"
      ]
     },
     "execution_count": 5,
     "metadata": {},
     "output_type": "execute_result"
    }
   ],
   "source": [
    "from sklearn.naive_bayes import MultinomialNB\n",
    "from sklearn.pipeline import Pipeline\n",
    "\n",
    "mnb_pipeline = Pipeline([('vec', CountVectorizer()), ('tfidf', TfidfTransformer()), ('clf', MultinomialNB())])\n",
    "\n",
    "mnb_pipeline.fit(tweets_train.Tweet, tweets_train.Party)\n",
    "\n",
    "p = mnb_pipeline.predict(tweets_test.Tweet)\n",
    "np.mean(p == tweets_test.Party)"
   ]
  },
  {
   "cell_type": "markdown",
   "metadata": {},
   "source": [
    "---\n",
    "\n",
    "## Neural Networks"
   ]
  },
  {
   "cell_type": "markdown",
   "metadata": {},
   "source": [
    "### Tensor Setup"
   ]
  },
  {
   "cell_type": "code",
   "execution_count": 6,
   "metadata": {},
   "outputs": [],
   "source": [
    "from keras.models import Sequential\n",
    "from keras.layers import Dense, LSTM, Dropout, Flatten\n",
    "from keras.layers.convolutional import Conv1D, MaxPooling1D\n",
    "from keras.layers import Conv2D, MaxPooling2D, GlobalAveragePooling1D, MaxPooling3D\n",
    "from keras.layers.embeddings import Embedding\n",
    "\n",
    "from nltk.tokenize.casual import TweetTokenizer\n",
    "from nltk import FreqDist\n",
    "\n",
    "tokenizer = TweetTokenizer(reduce_len=True)\n",
    "\n",
    "top_words = 25000\n",
    "\n",
    "tweets_nn = tweets\n",
    "tweets_nn.Tweet = tweets_nn.Tweet.apply(tokenizer.tokenize)"
   ]
  },
  {
   "cell_type": "code",
   "execution_count": 7,
   "metadata": {},
   "outputs": [
    {
     "name": "stdout",
     "output_type": "stream",
     "text": [
      "...\n",
      "...fdist\n",
      "...terms\n",
      "...term lambda\n",
      "^^^\n"
     ]
    }
   ],
   "source": [
    "print(\"...\")\n",
    "\n",
    "fdist = FreqDist(word for tweet in tweets_nn.Tweet for word in tweet)\n",
    "print(\"...fdist\")\n",
    "terms = [term for term, count in fdist.most_common(top_words)]\n",
    "print(\"...terms\")\n",
    "tweets_nn.Tweet = tweets_nn.Tweet.apply(\\\n",
    "                    lambda tweet:[terms.index(term)\\\n",
    "                    if term in terms else 0 for term in tweet]\n",
    "                )\n",
    "print(\"...term lambda\")\n",
    "\n",
    "nn_tweeters = tweets_nn.iloc[:,:2].drop_duplicates()\n",
    "\n",
    "print(\"^^^\")"
   ]
  },
  {
   "cell_type": "code",
   "execution_count": 8,
   "metadata": {},
   "outputs": [],
   "source": [
    "\n",
    "nn_tweeters_train, nn_tweeters_test = train_test_split(nn_tweeters.Handle,\\\n",
    "                           stratify=nn_tweeters.Party, test_size=0.2, random_state=42)\n",
    "\n",
    "nn_tweets_train = tweets_nn[tweets_nn.Handle.isin(nn_tweeters_train)].reset_index().drop('index', axis=1)\n",
    "nn_tweets_test = tweets_nn[tweets_nn.Handle.isin(nn_tweeters_test)].reset_index().drop('index',axis=1)\n"
   ]
  },
  {
   "cell_type": "code",
   "execution_count": 9,
   "metadata": {},
   "outputs": [
    {
     "name": "stdout",
     "output_type": "stream",
     "text": [
      "(69185, 3)\n",
      "(17275, 3)\n"
     ]
    },
    {
     "data": {
      "text/html": [
       "<div>\n",
       "<style>\n",
       "    .dataframe thead tr:only-child th {\n",
       "        text-align: right;\n",
       "    }\n",
       "\n",
       "    .dataframe thead th {\n",
       "        text-align: left;\n",
       "    }\n",
       "\n",
       "    .dataframe tbody tr th {\n",
       "        vertical-align: top;\n",
       "    }\n",
       "</style>\n",
       "<table border=\"1\" class=\"dataframe\">\n",
       "  <thead>\n",
       "    <tr style=\"text-align: right;\">\n",
       "      <th></th>\n",
       "      <th>Party</th>\n",
       "      <th>Handle</th>\n",
       "      <th>Tweet</th>\n",
       "    </tr>\n",
       "  </thead>\n",
       "  <tbody>\n",
       "    <tr>\n",
       "      <th>0</th>\n",
       "      <td>Democrat</td>\n",
       "      <td>RepJackyRosen</td>\n",
       "      <td>[383, 3, 24, 479, 15, 19, 0, 4, 0, 0, 20105, 1...</td>\n",
       "    </tr>\n",
       "    <tr>\n",
       "      <th>1</th>\n",
       "      <td>Democrat</td>\n",
       "      <td>RepJackyRosen</td>\n",
       "      <td>[25, 1621, 2137, 5433, 466, 4, 119, 108, 7, 69...</td>\n",
       "    </tr>\n",
       "    <tr>\n",
       "      <th>2</th>\n",
       "      <td>Democrat</td>\n",
       "      <td>RepJackyRosen</td>\n",
       "      <td>[168, 275, 3, 0, 6358, 10, 40, 0, 1659, 150, 0...</td>\n",
       "    </tr>\n",
       "    <tr>\n",
       "      <th>3</th>\n",
       "      <td>Democrat</td>\n",
       "      <td>RepJackyRosen</td>\n",
       "      <td>[3884, 5594, 3, 42, 0, 104, 41, 261, 24, 5702,...</td>\n",
       "    </tr>\n",
       "    <tr>\n",
       "      <th>4</th>\n",
       "      <td>Democrat</td>\n",
       "      <td>RepJackyRosen</td>\n",
       "      <td>[52, 22, 4, 4837, 4, 10, 1628, 80, 3, 24, 110,...</td>\n",
       "    </tr>\n",
       "  </tbody>\n",
       "</table>\n",
       "</div>"
      ],
      "text/plain": [
       "      Party         Handle                                              Tweet\n",
       "0  Democrat  RepJackyRosen  [383, 3, 24, 479, 15, 19, 0, 4, 0, 0, 20105, 1...\n",
       "1  Democrat  RepJackyRosen  [25, 1621, 2137, 5433, 466, 4, 119, 108, 7, 69...\n",
       "2  Democrat  RepJackyRosen  [168, 275, 3, 0, 6358, 10, 40, 0, 1659, 150, 0...\n",
       "3  Democrat  RepJackyRosen  [3884, 5594, 3, 42, 0, 104, 41, 261, 24, 5702,...\n",
       "4  Democrat  RepJackyRosen  [52, 22, 4, 4837, 4, 10, 1628, 80, 3, 24, 110,..."
      ]
     },
     "execution_count": 9,
     "metadata": {},
     "output_type": "execute_result"
    }
   ],
   "source": [
    "print(nn_tweets_train.shape)\n",
    "print(nn_tweets_test.shape)\n",
    "nn_tweets_test.head()"
   ]
  },
  {
   "cell_type": "code",
   "execution_count": 10,
   "metadata": {},
   "outputs": [
    {
     "data": {
      "text/html": [
       "<div>\n",
       "<style>\n",
       "    .dataframe thead tr:only-child th {\n",
       "        text-align: right;\n",
       "    }\n",
       "\n",
       "    .dataframe thead th {\n",
       "        text-align: left;\n",
       "    }\n",
       "\n",
       "    .dataframe tbody tr th {\n",
       "        vertical-align: top;\n",
       "    }\n",
       "</style>\n",
       "<table border=\"1\" class=\"dataframe\">\n",
       "  <thead>\n",
       "    <tr style=\"text-align: right;\">\n",
       "      <th></th>\n",
       "      <th>Party</th>\n",
       "      <th>Handle</th>\n",
       "      <th>Tweet</th>\n",
       "    </tr>\n",
       "  </thead>\n",
       "  <tbody>\n",
       "    <tr>\n",
       "      <th>0</th>\n",
       "      <td>Democrat</td>\n",
       "      <td>RepDarrenSoto</td>\n",
       "      <td>[51, 4, 222, 1204, 161, 3, 3312, 2, 191, 3, 77...</td>\n",
       "    </tr>\n",
       "    <tr>\n",
       "      <th>1</th>\n",
       "      <td>Democrat</td>\n",
       "      <td>RepDarrenSoto</td>\n",
       "      <td>[11, 23901, 6, 4415, 5963, 3417, 60, 0, 7109, ...</td>\n",
       "    </tr>\n",
       "    <tr>\n",
       "      <th>2</th>\n",
       "      <td>Democrat</td>\n",
       "      <td>RepDarrenSoto</td>\n",
       "      <td>[11, 12229, 6, 2, 1962, 10929, 21, 1223, 3012,...</td>\n",
       "    </tr>\n",
       "    <tr>\n",
       "      <th>3</th>\n",
       "      <td>Democrat</td>\n",
       "      <td>RepDarrenSoto</td>\n",
       "      <td>[11, 0, 6, 1349, 17, 1962, 2, 87, 10, 382, 0, ...</td>\n",
       "    </tr>\n",
       "    <tr>\n",
       "      <th>4</th>\n",
       "      <td>Democrat</td>\n",
       "      <td>RepDarrenSoto</td>\n",
       "      <td>[11, 0, 6, 1223, 1076, 1813, 13, 2561, 752, 45...</td>\n",
       "    </tr>\n",
       "  </tbody>\n",
       "</table>\n",
       "</div>"
      ],
      "text/plain": [
       "      Party         Handle                                              Tweet\n",
       "0  Democrat  RepDarrenSoto  [51, 4, 222, 1204, 161, 3, 3312, 2, 191, 3, 77...\n",
       "1  Democrat  RepDarrenSoto  [11, 23901, 6, 4415, 5963, 3417, 60, 0, 7109, ...\n",
       "2  Democrat  RepDarrenSoto  [11, 12229, 6, 2, 1962, 10929, 21, 1223, 3012,...\n",
       "3  Democrat  RepDarrenSoto  [11, 0, 6, 1349, 17, 1962, 2, 87, 10, 382, 0, ...\n",
       "4  Democrat  RepDarrenSoto  [11, 0, 6, 1223, 1076, 1813, 13, 2561, 752, 45..."
      ]
     },
     "execution_count": 10,
     "metadata": {},
     "output_type": "execute_result"
    }
   ],
   "source": [
    "nn_tweets_train.head()\n"
   ]
  },
  {
   "cell_type": "code",
   "execution_count": 11,
   "metadata": {},
   "outputs": [],
   "source": [
    "np.random.seed(42)\n",
    "\n",
    "X_train = np.array(nn_tweets_train.Tweet)\n",
    "X_test = np.array(nn_tweets_test.Tweet)\n",
    "y_train = np.array((nn_tweets_train.Party == 'Democrat').astype(int))\n",
    "y_test = np.array((nn_tweets_test.Party == 'Democrat').astype(int))"
   ]
  },
  {
   "cell_type": "code",
   "execution_count": 12,
   "metadata": {},
   "outputs": [],
   "source": [
    "tweet_length = 60\n",
    "X_train = sequence.pad_sequences(X_train, maxlen=tweet_length)\n",
    "X_test = sequence.pad_sequences(X_test, maxlen=tweet_length)"
   ]
  },
  {
   "cell_type": "markdown",
   "metadata": {},
   "source": [
    "### Neural Net — Model 1 — LSTM Recurrent Neural Network"
   ]
  },
  {
   "cell_type": "code",
   "execution_count": 13,
   "metadata": {},
   "outputs": [
    {
     "name": "stdout",
     "output_type": "stream",
     "text": [
      "_________________________________________________________________\n",
      "Layer (type)                 Output Shape              Param #   \n",
      "=================================================================\n",
      "embedding_1 (Embedding)      (None, 60, 32)            800000    \n",
      "_________________________________________________________________\n",
      "conv1d_1 (Conv1D)            (None, 60, 32)            3104      \n",
      "_________________________________________________________________\n",
      "max_pooling1d_1 (MaxPooling1 (None, 30, 32)            0         \n",
      "_________________________________________________________________\n",
      "lstm_1 (LSTM)                (None, 100)               53200     \n",
      "_________________________________________________________________\n",
      "dense_1 (Dense)              (None, 1)                 101       \n",
      "=================================================================\n",
      "Total params: 856,405\n",
      "Trainable params: 856,405\n",
      "Non-trainable params: 0\n",
      "_________________________________________________________________\n",
      "None\n",
      "Epoch 1/3\n",
      "69185/69185 [==============================] - 51s - loss: 0.4858 - acc: 0.7455    \n",
      "Epoch 2/3\n",
      "69185/69185 [==============================] - 50s - loss: 0.3135 - acc: 0.8576    \n",
      "Epoch 3/3\n",
      "69185/69185 [==============================] - 50s - loss: 0.2435 - acc: 0.8929    \n",
      "Accuracy: 72.27%\n"
     ]
    }
   ],
   "source": [
    "embedding_vector_length = 32\n",
    "model = Sequential()\n",
    "model.add(Embedding(top_words, embedding_vector_length, input_length=tweet_length))\n",
    "model.add(Conv1D(filters=32, kernel_size=3, padding='same', activation='relu'))\n",
    "model.add(MaxPooling1D(pool_size=2))\n",
    "#model.add(Dropout(0.2))\n",
    "model.add(LSTM(100, dropout=0.2, recurrent_dropout=0.2))\n",
    "#model.add(Dropout(0.2))\n",
    "model.add(Dense(1, activation='sigmoid'))\n",
    "model.compile(loss='binary_crossentropy', optimizer='adam', metrics=['accuracy',])\n",
    "print(model.summary())\n",
    "model.fit(X_train, y_train, epochs=3, batch_size=64)\n",
    "scores = model.evaluate(X_test, y_test, verbose=0)\n",
    "print(\"Accuracy: %.2f%%\" % (scores[1]*100))"
   ]
  },
  {
   "cell_type": "markdown",
   "metadata": {},
   "source": [
    "### Neural Net — Model 2 — VGG Net Basis"
   ]
  },
  {
   "cell_type": "code",
   "execution_count": 21,
   "metadata": {},
   "outputs": [
    {
     "name": "stdout",
     "output_type": "stream",
     "text": [
      "(69185, 60)\n",
      "_________________________________________________________________\n",
      "Layer (type)                 Output Shape              Param #   \n",
      "=================================================================\n",
      "embedding_7 (Embedding)      (None, 60, 32)            800000    \n",
      "_________________________________________________________________\n",
      "conv1d_15 (Conv1D)           (None, 60, 64)            6208      \n",
      "_________________________________________________________________\n",
      "max_pooling1d_15 (MaxPooling (None, 30, 64)            0         \n",
      "_________________________________________________________________\n",
      "dropout_13 (Dropout)         (None, 30, 64)            0         \n",
      "_________________________________________________________________\n",
      "conv1d_16 (Conv1D)           (None, 30, 64)            12352     \n",
      "_________________________________________________________________\n",
      "max_pooling1d_16 (MaxPooling (None, 15, 64)            0         \n",
      "_________________________________________________________________\n",
      "dropout_14 (Dropout)         (None, 15, 64)            0         \n",
      "_________________________________________________________________\n",
      "conv1d_17 (Conv1D)           (None, 15, 64)            12352     \n",
      "_________________________________________________________________\n",
      "max_pooling1d_17 (MaxPooling (None, 7, 64)             0         \n",
      "_________________________________________________________________\n",
      "dropout_15 (Dropout)         (None, 7, 64)             0         \n",
      "_________________________________________________________________\n",
      "conv1d_18 (Conv1D)           (None, 7, 64)             12352     \n",
      "_________________________________________________________________\n",
      "max_pooling1d_18 (MaxPooling (None, 3, 64)             0         \n",
      "_________________________________________________________________\n",
      "dropout_16 (Dropout)         (None, 3, 64)             0         \n",
      "_________________________________________________________________\n",
      "conv1d_19 (Conv1D)           (None, 3, 64)             12352     \n",
      "_________________________________________________________________\n",
      "max_pooling1d_19 (MaxPooling (None, 1, 64)             0         \n",
      "_________________________________________________________________\n",
      "dropout_17 (Dropout)         (None, 1, 64)             0         \n",
      "_________________________________________________________________\n",
      "lstm_7 (LSTM)                (None, 100)               66000     \n",
      "_________________________________________________________________\n",
      "dense_7 (Dense)              (None, 1)                 101       \n",
      "=================================================================\n",
      "Total params: 921,717\n",
      "Trainable params: 921,717\n",
      "Non-trainable params: 0\n",
      "_________________________________________________________________\n"
     ]
    }
   ],
   "source": [
    "print(X_train.shape)\n",
    "model2 = Sequential()\n",
    "\n",
    "model2.add(Embedding(top_words, embedding_vector_length, input_length=tweet_length))\n",
    "\n",
    "model2.add(Conv1D(filters=64, kernel_size=3, padding='same', activation='relu'))\n",
    "model2.add(MaxPooling1D(pool_size=2))\n",
    "model2.add(Dropout(0.2))\n",
    "\n",
    "model2.add(Conv1D(filters=64, kernel_size=3, padding='same', activation='relu'))\n",
    "model2.add(MaxPooling1D(pool_size=2))\n",
    "model2.add(Dropout(0.2))\n",
    "\n",
    "model2.add(Conv1D(filters=64, kernel_size=3, padding='same', activation='relu'))\n",
    "model2.add(MaxPooling1D(pool_size=2))\n",
    "model2.add(Dropout(0.2))\n",
    "\n",
    "model2.add(Conv1D(filters=64, kernel_size=3, padding='same', activation='relu'))\n",
    "model2.add(MaxPooling1D(pool_size=2))\n",
    "model2.add(Dropout(0.2))\n",
    "\n",
    "model2.add(Conv1D(filters=64, kernel_size=3, padding='same', activation='relu'))\n",
    "model2.add(MaxPooling1D(pool_size=2))\n",
    "model2.add(Dropout(0.2))\n",
    "\n",
    "model2.add(LSTM(100))\n",
    "\n",
    "model2.add(Dense(1, activation='sigmoid'))\n",
    "\n",
    "model2.summary()\n"
   ]
  },
  {
   "cell_type": "code",
   "execution_count": 24,
   "metadata": {},
   "outputs": [
    {
     "name": "stdout",
     "output_type": "stream",
     "text": [
      "Epoch 1/10\n",
      "69185/69185 [==============================] - 13s - loss: 0.0523 - acc: 0.9801    \n",
      "Epoch 2/10\n",
      "69185/69185 [==============================] - 13s - loss: 0.0412 - acc: 0.9844    \n",
      "Epoch 3/10\n",
      "69185/69185 [==============================] - 12s - loss: 0.0349 - acc: 0.9868    \n",
      "Epoch 4/10\n",
      "69185/69185 [==============================] - 12s - loss: 0.0346 - acc: 0.9873    \n",
      "Epoch 5/10\n",
      "69185/69185 [==============================] - 12s - loss: 0.0306 - acc: 0.9887    \n",
      "Epoch 6/10\n",
      "69185/69185 [==============================] - 12s - loss: 0.0290 - acc: 0.9894    \n",
      "Epoch 7/10\n",
      "69185/69185 [==============================] - 12s - loss: 0.0279 - acc: 0.9898    \n",
      "Epoch 8/10\n",
      "69185/69185 [==============================] - 12s - loss: 0.0254 - acc: 0.9906    \n",
      "Epoch 9/10\n",
      "69185/69185 [==============================] - 13s - loss: 0.0249 - acc: 0.9908    \n",
      "Epoch 10/10\n",
      "69185/69185 [==============================] - 12s - loss: 0.0246 - acc: 0.9907    \n",
      "Accuracy: 71.40%\n"
     ]
    }
   ],
   "source": [
    "model2.compile(loss='binary_crossentropy', optimizer='adam', metrics=['accuracy',])\n",
    "model2.fit(X_train, y_train, epochs=10, batch_size=64)\n",
    "scores2 = model2.evaluate(X_test, y_test, verbose=0)\n",
    "print(\"Accuracy: %.2f%%\" % (scores2[1]*100))"
   ]
  },
  {
   "cell_type": "code",
   "execution_count": null,
   "metadata": {},
   "outputs": [],
   "source": []
  }
 ],
 "metadata": {
  "kernelspec": {
   "display_name": "Python 3",
   "language": "python",
   "name": "python3"
  },
  "language_info": {
   "codemirror_mode": {
    "name": "ipython",
    "version": 3
   },
   "file_extension": ".py",
   "mimetype": "text/x-python",
   "name": "python",
   "nbconvert_exporter": "python",
   "pygments_lexer": "ipython3",
   "version": "3.5.2"
  }
 },
 "nbformat": 4,
 "nbformat_minor": 2
}
